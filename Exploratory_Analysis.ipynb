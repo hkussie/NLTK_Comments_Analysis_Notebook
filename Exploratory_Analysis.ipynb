{
 "cells": [
  {
   "cell_type": "code",
   "execution_count": 4,
   "metadata": {},
   "outputs": [],
   "source": [
    "import pandas as pd\n",
    "import matplotlib.pyplot as plt \n",
    "import seaborn as sns \n",
    "import nltk"
   ]
  },
  {
   "cell_type": "code",
   "execution_count": 8,
   "metadata": {
    "scrolled": true
   },
   "outputs": [],
   "source": [
    "df = pd.read_csv(\"RT_Comments.csv\")"
   ]
  },
  {
   "cell_type": "code",
   "execution_count": 9,
   "metadata": {},
   "outputs": [
    {
     "data": {
      "text/html": [
       "<div>\n",
       "<style scoped>\n",
       "    .dataframe tbody tr th:only-of-type {\n",
       "        vertical-align: middle;\n",
       "    }\n",
       "\n",
       "    .dataframe tbody tr th {\n",
       "        vertical-align: top;\n",
       "    }\n",
       "\n",
       "    .dataframe thead th {\n",
       "        text-align: right;\n",
       "    }\n",
       "</style>\n",
       "<table border=\"1\" class=\"dataframe\">\n",
       "  <thead>\n",
       "    <tr style=\"text-align: right;\">\n",
       "      <th></th>\n",
       "      <th>id</th>\n",
       "      <th>user</th>\n",
       "      <th>date</th>\n",
       "      <th>timestamp</th>\n",
       "      <th>commentText</th>\n",
       "      <th>likes</th>\n",
       "      <th>hasReplies</th>\n",
       "      <th>numberOfReplies</th>\n",
       "      <th>replies.id</th>\n",
       "      <th>replies.user</th>\n",
       "      <th>replies.date</th>\n",
       "      <th>replies.timestamp</th>\n",
       "      <th>replies.commentText</th>\n",
       "      <th>replies.likes</th>\n",
       "    </tr>\n",
       "  </thead>\n",
       "  <tbody>\n",
       "    <tr>\n",
       "      <th>0</th>\n",
       "      <td>UgyrTRf9bMjFv9LWtNN4AaABAg</td>\n",
       "      <td>LosAngeles MexicanMaster</td>\n",
       "      <td>11 hours ago</td>\n",
       "      <td>1.532069e+12</td>\n",
       "      <td>ORANGE BUFFOON</td>\n",
       "      <td>0.0</td>\n",
       "      <td>False</td>\n",
       "      <td>0.0</td>\n",
       "      <td>NaN</td>\n",
       "      <td>NaN</td>\n",
       "      <td>NaN</td>\n",
       "      <td>NaN</td>\n",
       "      <td>NaN</td>\n",
       "      <td>NaN</td>\n",
       "    </tr>\n",
       "    <tr>\n",
       "      <th>1</th>\n",
       "      <td>UgxT4MeHb6s9J00zUCB4AaABAg</td>\n",
       "      <td>Donald J Trump</td>\n",
       "      <td>1 day ago</td>\n",
       "      <td>1.532023e+12</td>\n",
       "      <td>Me and Putin will make peace</td>\n",
       "      <td>0.0</td>\n",
       "      <td>True</td>\n",
       "      <td>1.0</td>\n",
       "      <td>NaN</td>\n",
       "      <td>NaN</td>\n",
       "      <td>NaN</td>\n",
       "      <td>NaN</td>\n",
       "      <td>NaN</td>\n",
       "      <td>NaN</td>\n",
       "    </tr>\n",
       "    <tr>\n",
       "      <th>2</th>\n",
       "      <td>NaN</td>\n",
       "      <td>NaN</td>\n",
       "      <td>NaN</td>\n",
       "      <td>NaN</td>\n",
       "      <td>NaN</td>\n",
       "      <td>NaN</td>\n",
       "      <td>NaN</td>\n",
       "      <td>NaN</td>\n",
       "      <td>UgxT4MeHb6s9J00zUCB4AaABAg.8isqulEjc5h8iuss_cAsI3</td>\n",
       "      <td>LosAngeles MexicanMaster</td>\n",
       "      <td>11 hours ago</td>\n",
       "      <td>1.532069e+12</td>\n",
       "      <td>BENJAMIN NETANYAHU IS YOUR BOSS!    stupid ora...</td>\n",
       "      <td>0.0</td>\n",
       "    </tr>\n",
       "    <tr>\n",
       "      <th>3</th>\n",
       "      <td>UgyQEavPr2OPYD0biKV4AaABAg</td>\n",
       "      <td>art hick</td>\n",
       "      <td>1 day ago</td>\n",
       "      <td>1.532023e+12</td>\n",
       "      <td>I FUCKING LOVE TRUMP. HE IS HAVING A BLAST WIT...</td>\n",
       "      <td>0.0</td>\n",
       "      <td>False</td>\n",
       "      <td>0.0</td>\n",
       "      <td>NaN</td>\n",
       "      <td>NaN</td>\n",
       "      <td>NaN</td>\n",
       "      <td>NaN</td>\n",
       "      <td>NaN</td>\n",
       "      <td>NaN</td>\n",
       "    </tr>\n",
       "  </tbody>\n",
       "</table>\n",
       "</div>"
      ],
      "text/plain": [
       "                           id                      user          date  \\\n",
       "0  UgyrTRf9bMjFv9LWtNN4AaABAg  LosAngeles MexicanMaster  11 hours ago   \n",
       "1  UgxT4MeHb6s9J00zUCB4AaABAg            Donald J Trump     1 day ago   \n",
       "2                         NaN                       NaN           NaN   \n",
       "3  UgyQEavPr2OPYD0biKV4AaABAg                  art hick     1 day ago   \n",
       "\n",
       "      timestamp                                        commentText  likes  \\\n",
       "0  1.532069e+12                                     ORANGE BUFFOON    0.0   \n",
       "1  1.532023e+12                       Me and Putin will make peace    0.0   \n",
       "2           NaN                                                NaN    NaN   \n",
       "3  1.532023e+12  I FUCKING LOVE TRUMP. HE IS HAVING A BLAST WIT...    0.0   \n",
       "\n",
       "  hasReplies  numberOfReplies  \\\n",
       "0      False              0.0   \n",
       "1       True              1.0   \n",
       "2        NaN              NaN   \n",
       "3      False              0.0   \n",
       "\n",
       "                                          replies.id  \\\n",
       "0                                                NaN   \n",
       "1                                                NaN   \n",
       "2  UgxT4MeHb6s9J00zUCB4AaABAg.8isqulEjc5h8iuss_cAsI3   \n",
       "3                                                NaN   \n",
       "\n",
       "               replies.user  replies.date  replies.timestamp  \\\n",
       "0                       NaN           NaN                NaN   \n",
       "1                       NaN           NaN                NaN   \n",
       "2  LosAngeles MexicanMaster  11 hours ago       1.532069e+12   \n",
       "3                       NaN           NaN                NaN   \n",
       "\n",
       "                                 replies.commentText  replies.likes  \n",
       "0                                                NaN            NaN  \n",
       "1                                                NaN            NaN  \n",
       "2  BENJAMIN NETANYAHU IS YOUR BOSS!    stupid ora...            0.0  \n",
       "3                                                NaN            NaN  "
      ]
     },
     "execution_count": 9,
     "metadata": {},
     "output_type": "execute_result"
    }
   ],
   "source": [
    "df[0:4]"
   ]
  },
  {
   "cell_type": "code",
   "execution_count": 8,
   "metadata": {},
   "outputs": [
    {
     "data": {
      "text/plain": [
       "10    Architecture\n",
       "11    Architecture\n",
       "12    Architecture\n",
       "13    Architecture\n",
       "14    Architecture\n",
       "15    Architecture\n",
       "16    Architecture\n",
       "17    Architecture\n",
       "18    Architecture\n",
       "19    Architecture\n",
       "20    Architecture\n",
       "21    Architecture\n",
       "22    Architecture\n",
       "23    Architecture\n",
       "24    Architecture\n",
       "25    Architecture\n",
       "26    Architecture\n",
       "27    Architecture\n",
       "28    Architecture\n",
       "29    Architecture\n",
       "Name: Classification, dtype: object"
      ]
     },
     "execution_count": 8,
     "metadata": {},
     "output_type": "execute_result"
    }
   ],
   "source": [
    "df['Classification']"
   ]
  },
  {
   "cell_type": "code",
   "execution_count": 18,
   "metadata": {},
   "outputs": [
    {
     "data": {
      "text/plain": [
       "130262"
      ]
     },
     "execution_count": 18,
     "metadata": {},
     "output_type": "execute_result"
    }
   ],
   "source": [
    "Classification = df['Classification']\n",
    "Classification.count()"
   ]
  }
 ],
 "metadata": {
  "kernelspec": {
   "display_name": "Python 3",
   "language": "python",
   "name": "python3"
  },
  "language_info": {
   "codemirror_mode": {
    "name": "ipython",
    "version": 3
   },
   "file_extension": ".py",
   "mimetype": "text/x-python",
   "name": "python",
   "nbconvert_exporter": "python",
   "pygments_lexer": "ipython3",
   "version": "3.6.4"
  }
 },
 "nbformat": 4,
 "nbformat_minor": 2
}
